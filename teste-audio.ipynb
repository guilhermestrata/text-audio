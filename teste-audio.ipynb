{
 "cells": [
  {
   "cell_type": "code",
   "execution_count": 14,
   "metadata": {},
   "outputs": [
    {
     "name": "stdout",
     "output_type": "stream",
     "text": [
      "calma bicha 1\n",
      "calma bicha 2\n",
      "calma bicha 3\n",
      "calma bicha 4\n",
      "calma bicha 5\n",
      "calma bicha 6\n",
      "calma bicha 7\n",
      "calma bicha 8\n",
      "calma bicha 9\n",
      "calma bicha 10\n",
      "calma bicha 11\n",
      "calma bicha 12\n"
     ]
    },
    {
     "ename": "KeyboardInterrupt",
     "evalue": "",
     "output_type": "error",
     "traceback": [
      "\u001b[1;31m---------------------------------------------------------------------------\u001b[0m",
      "\u001b[1;31mKeyboardInterrupt\u001b[0m                         Traceback (most recent call last)",
      "Cell \u001b[1;32mIn[14], line 21\u001b[0m\n\u001b[0;32m     18\u001b[0m p \u001b[38;5;241m=\u001b[39m vlc\u001b[38;5;241m.\u001b[39mMediaPlayer(audio_path)\n\u001b[0;32m     19\u001b[0m p\u001b[38;5;241m.\u001b[39mplay()\n\u001b[1;32m---> 21\u001b[0m \u001b[43mtime\u001b[49m\u001b[38;5;241;43m.\u001b[39;49m\u001b[43msleep\u001b[49m\u001b[43m(\u001b[49m\u001b[38;5;241;43m1\u001b[39;49m\u001b[43m)\u001b[49m\n\u001b[0;32m     22\u001b[0m i \u001b[38;5;241m=\u001b[39m i \u001b[38;5;241m+\u001b[39m \u001b[38;5;241m1\u001b[39m\n",
      "\u001b[1;31mKeyboardInterrupt\u001b[0m: "
     ]
    }
   ],
   "source": [
    "from gtts import gTTS\n",
    "import vlc\n",
    "import time\n",
    "\n",
    "language = 'pt-br'\n",
    "audio_path = 'C:\\\\Users\\\\guilherme.arendt\\\\Documents\\\\Projetos\\\\Text\\\\audio.mp3'\n",
    "\n",
    "i = 1\n",
    "while True:\n",
    "    text = ' ' + str(i)\n",
    "    print(text)\n",
    "    sp = gTTS(\n",
    "        text=text,\n",
    "        lang=language\n",
    "        )\n",
    "    sp.save(audio_path)\n",
    "\n",
    "    p = vlc.MediaPlayer(audio_path)\n",
    "    p.play()\n",
    "\n",
    "    time.sleep(1)\n",
    "    i = i + 1\n"
   ]
  },
  {
   "cell_type": "code",
   "execution_count": 2,
   "metadata": {},
   "outputs": [
    {
     "name": "stdout",
     "output_type": "stream",
     "text": [
      "Collecting python-vlc\n",
      "  Using cached python_vlc-3.0.20123-py3-none-any.whl.metadata (1.4 kB)\n",
      "Using cached python_vlc-3.0.20123-py3-none-any.whl (79 kB)\n",
      "Installing collected packages: python-vlc\n",
      "Successfully installed python-vlc-3.0.20123\n",
      "Note: you may need to restart the kernel to use updated packages.\n"
     ]
    }
   ],
   "source": [
    "pip install python-vlc"
   ]
  }
 ],
 "metadata": {
  "kernelspec": {
   "display_name": "Python 3",
   "language": "python",
   "name": "python3"
  },
  "language_info": {
   "codemirror_mode": {
    "name": "ipython",
    "version": 3
   },
   "file_extension": ".py",
   "mimetype": "text/x-python",
   "name": "python",
   "nbconvert_exporter": "python",
   "pygments_lexer": "ipython3",
   "version": "3.12.1"
  }
 },
 "nbformat": 4,
 "nbformat_minor": 2
}
