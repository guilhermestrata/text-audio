{
 "cells": [
  {
   "cell_type": "code",
   "execution_count": null,
   "metadata": {},
   "outputs": [],
   "source": [
    "from gtts import gTTS\n",
    "import vlc\n",
    "import time\n",
    "\n",
    "language = 'pt-br'\n",
    "audio_path = 'C:\\\\Users\\\\guilherme.arendt\\\\Documents\\\\Projetos\\\\Text\\\\audio.mp3'\n",
    "\n",
    "i = 1\n",
    "while True:\n",
    "    text = ' ' + str(i)\n",
    "    print(text)\n",
    "    sp = gTTS(\n",
    "        text=text,\n",
    "        lang=language\n",
    "        )\n",
    "    sp.save(audio_path)\n",
    "\n",
    "    p = vlc.MediaPlayer(audio_path)\n",
    "    p.play()\n",
    "\n",
    "    time.sleep(1)\n",
    "    i = i + 1\n"
   ]
  },
  {
   "cell_type": "code",
   "execution_count": null,
   "metadata": {},
   "outputs": [],
   "source": [
    "pip install python-vlc"
   ]
  }
 ],
 "metadata": {
  "kernelspec": {
   "display_name": "Python 3",
   "language": "python",
   "name": "python3"
  },
  "language_info": {
   "codemirror_mode": {
    "name": "ipython",
    "version": 3
   },
   "file_extension": ".py",
   "mimetype": "text/x-python",
   "name": "python",
   "nbconvert_exporter": "python",
   "pygments_lexer": "ipython3",
   "version": "3.12.1"
  }
 },
 "nbformat": 4,
 "nbformat_minor": 2
}
