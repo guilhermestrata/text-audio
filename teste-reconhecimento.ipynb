{
 "cells": [
  {
   "cell_type": "code",
   "execution_count": 1,
   "metadata": {},
   "outputs": [
    {
     "name": "stdout",
     "output_type": "stream",
     "text": [
      "Ajustando seu microfone\n",
      "Pode falar\n"
     ]
    }
   ],
   "source": [
    "import speech_recognition as sr\n",
    "from gtts import gTTS\n",
    "import vlc\n",
    "import time\n",
    "\n",
    "rec = sr.Recognizer()\n",
    "#print(sr.Microphone().list_microphone_names())\n",
    "with sr.Microphone() as mic:\n",
    "    print(\"Ajustando seu microfone\")\n",
    "    rec.adjust_for_ambient_noise(mic, duration=5)\n",
    "    print(\"Pode falar\")\n",
    "    audio = rec.listen(mic)  \n",
    "    try:\n",
    "        texto = rec.recognize_google(audio)\n",
    "        print(texto)\n",
    "    except sr.UnknownValueError:\n",
    "        print(\"Não foi possível reconhecer o áudio.\")\n",
    "    except sr.WaitTimeoutError:\n",
    "        print(\"Tempo limite atingido. Nenhum áudio detectado.\")\n",
    "    except sr.RequestError as e:\n",
    "        print(f\"Erro na requisição ao serviço de reconhecimento: {e}\")\n",
    "\n",
    "    name = texto.split(' ')\n",
    "    name.reverse()\n",
    "\n",
    "    language = 'en'\n",
    "    audio_path = 'C:\\\\Users\\\\guilherme.arendt\\\\Documents\\\\Projetos\\\\Text\\\\audio.mp3'\n",
    "    sp = gTTS(\n",
    "        text='Hi ' + str(name[0]),\n",
    "        lang=language\n",
    "    )   \n",
    "    sp.save(audio_path)\n",
    "    p = vlc.MediaPlayer(audio_path)\n",
    "    p.play()\n",
    "\n",
    "    \n"
   ]
  },
  {
   "cell_type": "code",
   "execution_count": 13,
   "metadata": {},
   "outputs": [
    {
     "name": "stdout",
     "output_type": "stream",
     "text": [
      "Requirement already satisfied: SpeechRecognition in c:\\users\\guilherme.arendt\\appdata\\local\\programs\\python\\python312\\lib\\site-packages (3.10.1)\n",
      "Requirement already satisfied: requests>=2.26.0 in c:\\users\\guilherme.arendt\\appdata\\local\\programs\\python\\python312\\lib\\site-packages (from SpeechRecognition) (2.31.0)\n",
      "Requirement already satisfied: typing-extensions in c:\\users\\guilherme.arendt\\appdata\\local\\programs\\python\\python312\\lib\\site-packages (from SpeechRecognition) (4.9.0)\n",
      "Requirement already satisfied: charset-normalizer<4,>=2 in c:\\users\\guilherme.arendt\\appdata\\local\\programs\\python\\python312\\lib\\site-packages (from requests>=2.26.0->SpeechRecognition) (3.3.2)\n",
      "Requirement already satisfied: idna<4,>=2.5 in c:\\users\\guilherme.arendt\\appdata\\local\\programs\\python\\python312\\lib\\site-packages (from requests>=2.26.0->SpeechRecognition) (3.6)\n",
      "Requirement already satisfied: urllib3<3,>=1.21.1 in c:\\users\\guilherme.arendt\\appdata\\local\\programs\\python\\python312\\lib\\site-packages (from requests>=2.26.0->SpeechRecognition) (2.1.0)\n",
      "Requirement already satisfied: certifi>=2017.4.17 in c:\\users\\guilherme.arendt\\appdata\\local\\programs\\python\\python312\\lib\\site-packages (from requests>=2.26.0->SpeechRecognition) (2023.11.17)\n",
      "Note: you may need to restart the kernel to use updated packages.\n"
     ]
    }
   ],
   "source": [
    "pip install SpeechRecognition"
   ]
  }
 ],
 "metadata": {
  "kernelspec": {
   "display_name": "Python 3",
   "language": "python",
   "name": "python3"
  },
  "language_info": {
   "codemirror_mode": {
    "name": "ipython",
    "version": 3
   },
   "file_extension": ".py",
   "mimetype": "text/x-python",
   "name": "python",
   "nbconvert_exporter": "python",
   "pygments_lexer": "ipython3",
   "version": "3.11.5"
  }
 },
 "nbformat": 4,
 "nbformat_minor": 2
}
