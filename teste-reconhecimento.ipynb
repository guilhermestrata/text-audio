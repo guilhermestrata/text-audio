{
 "cells": [
  {
   "cell_type": "code",
   "execution_count": 2,
   "metadata": {},
   "outputs": [
    {
     "ename": "ModuleNotFoundError",
     "evalue": "No module named 'speech_recognition'",
     "output_type": "error",
     "traceback": [
      "\u001b[1;31m---------------------------------------------------------------------------\u001b[0m",
      "\u001b[1;31mModuleNotFoundError\u001b[0m                       Traceback (most recent call last)",
      "Cell \u001b[1;32mIn[2], line 1\u001b[0m\n\u001b[1;32m----> 1\u001b[0m \u001b[38;5;28;01mimport\u001b[39;00m \u001b[38;5;21;01mspeech_recognition\u001b[39;00m \u001b[38;5;28;01mas\u001b[39;00m \u001b[38;5;21;01msr\u001b[39;00m\n\u001b[0;32m      3\u001b[0m rec \u001b[38;5;241m=\u001b[39m sr\u001b[38;5;241m.\u001b[39mRecognizer()\n\u001b[0;32m      4\u001b[0m \u001b[38;5;66;03m#print(sr.Microphone().list_microphone_names())\u001b[39;00m\n",
      "\u001b[1;31mModuleNotFoundError\u001b[0m: No module named 'speech_recognition'"
     ]
    }
   ],
   "source": [
    "import speech_recognition as sr\n",
    "\n",
    "rec = sr.Recognizer()\n",
    "#print(sr.Microphone().list_microphone_names())\n",
    "with sr.Microphone(5) as mic:\n",
    "    rec.adjust_for_ambient_noise(mic)\n",
    "    print(\"Pode falar que eu vou gravar\")\n",
    "    try:\n",
    "        audio = rec.listen(mic, timeout=5)  \n",
    "        texto = rec.recognize_google(audio, language=\"pt-BR\")\n",
    "        print(texto)\n",
    "    except sr.UnknownValueError:\n",
    "        print(\"Não foi possível reconhecer o áudio.\")\n",
    "    except sr.WaitTimeoutError:\n",
    "        print(\"Tempo limite atingido. Nenhum áudio detectado.\")\n",
    "    except sr.RequestError as e:\n",
    "        print(f\"Erro na requisição ao serviço de reconhecimento: {e}\")\n",
    "\n"
   ]
  }
 ],
 "metadata": {
  "kernelspec": {
   "display_name": "Python 3",
   "language": "python",
   "name": "python3"
  },
  "language_info": {
   "codemirror_mode": {
    "name": "ipython",
    "version": 3
   },
   "file_extension": ".py",
   "mimetype": "text/x-python",
   "name": "python",
   "nbconvert_exporter": "python",
   "pygments_lexer": "ipython3",
   "version": "3.12.1"
  }
 },
 "nbformat": 4,
 "nbformat_minor": 2
}
